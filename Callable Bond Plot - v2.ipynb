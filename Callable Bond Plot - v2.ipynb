{
 "cells": [
  {
   "cell_type": "markdown",
   "metadata": {},
   "source": [
    "## 1. Define Function"
   ]
  },
  {
   "cell_type": "code",
   "execution_count": 129,
   "metadata": {
    "collapsed": true
   },
   "outputs": [],
   "source": [
    "import numpy as np\n",
    "from numba import jit\n",
    "from scipy.special import comb\n",
    "import scipy.optimize as optimize\n",
    "from matplotlib import pyplot as plt\n",
    "import numpy.polynomial.polynomial as nppp\n",
    "%matplotlib inline"
   ]
  },
  {
   "cell_type": "code",
   "execution_count": 96,
   "metadata": {},
   "outputs": [],
   "source": [
    "#return interst rate of each node\n",
    "@jit\n",
    "def generateBTR(r0,drift,sigma,n,year): \n",
    "    n_level = n * year\n",
    "    BT = np.zeros((n_level, n_level))\n",
    "    BT[0][0] = r0\n",
    "    deltaT=1/n\n",
    "    for i in range(1, n_level):\n",
    "        BT[:, i] = BT[:, i - 1] * np.exp(drift*deltaT+sigma*np.sqrt(deltaT))\n",
    "        BT[i][i] = BT[i - 1][i - 1] * np.exp(drift*deltaT-sigma*np.sqrt(deltaT))\n",
    "    return BT\n",
    "\n",
    "#return discount rate between each deltaT\n",
    "@jit\n",
    "def generateBT(r0,drift,sigma,n,year): \n",
    "    BTR = generateBTR(r0,drift,sigma,n,year)\n",
    "    deltaT=1/n\n",
    "    return np.exp(-BTR*deltaT)\n",
    "\n",
    "@jit\n",
    "def discountedValue(BT,n):\n",
    "    result = BT[:n, n - 1]\n",
    "    for i in np.arange(n-1,0,-1):\n",
    "        result = 0.5 * (result[:-1] + result[1:]) * BT[:i, i - 1]\n",
    "    return result[0]\n",
    "\n",
    "'''\n",
    "r0=current continous conpouding short rate\n",
    "drift,sigma=parameters in model\n",
    "n=numer of steps in year\n",
    "year=matirity\n",
    "cFrq=how many times of coupon payment per year\n",
    "c=coupon rate\n",
    "principle=face value\n",
    "'''\n",
    "@jit\n",
    "def vanillaBond(r0,drift,sigma,n,year,cFrq,c,principle):\n",
    "    BT=generateBT(r0,drift,sigma,n,year)\n",
    "    price=principle*discountedValue(BT,year*n) \n",
    "    for t in np.array(range(1,cFrq*year+1))/cFrq:\n",
    "        price+=(c/cFrq)*principle*discountedValue(BT,int(t*n))  \n",
    "    return price\n",
    "\n",
    "@jit\n",
    "def callableBond(r0,drift,sigma,n,year,cFrq,c,principle,callPirce,callTime):\n",
    "    \n",
    "    BTRt=generateBTR(r0,drift,sigma,n,callTime)\n",
    "    BTt=generateBT(r0,drift,sigma,n,callTime)\n",
    "    \n",
    "    newR=BTRt[:, n*callTime - 1].squeeze()\n",
    "    len_newR = len(newR)\n",
    "    \n",
    "    price=0\n",
    "    count=0\n",
    "    for r in newR:\n",
    "        p1=min(vanillaBond(r,drift,sigma,n,year-callTime,cFrq,c,principle),callPirce)\n",
    "        price+=p1*discountedValue(BTt,callTime*n)*comb(len_newR-1, count)/(2**(len(newR)-1))\n",
    "        count+=1\n",
    "        \n",
    "    for t in np.arange(1,cFrq*callTime+1)/cFrq:\n",
    "        price+=(c/cFrq)*principle*discountedValue(BTt,int(t*n))  \n",
    "    return price\n",
    "\n",
    "def ytm(price,c,principle,cFrq,year):\n",
    "    \n",
    "    freq = float(cFrq)\n",
    "    periods = year*freq\n",
    "    coupon = c*principle/cFrq\n",
    "    dt = [(i+1)/freq for i in range(int(periods))]\n",
    "    ytm_func = lambda y: sum([coupon/(1+y/freq)**(freq*t) for t in dt]) + principle/(1+y/freq)**(freq*year) - price\n",
    "    \n",
    "    return optimize.newton(ytm_func, 0.03)"
   ]
  },
  {
   "cell_type": "markdown",
   "metadata": {},
   "source": [
    "## 2. Simulate vanilla bond price"
   ]
  },
  {
   "cell_type": "code",
   "execution_count": 167,
   "metadata": {
    "collapsed": true
   },
   "outputs": [],
   "source": [
    "drift=0.01\n",
    "sigma=0.4\n",
    "n=6\n",
    "year=30\n",
    "cFrq=2\n",
    "c=0.03\n",
    "principle=100\n",
    "callPirce=101\n",
    "callTime=3"
   ]
  },
  {
   "cell_type": "code",
   "execution_count": 75,
   "metadata": {},
   "outputs": [
    {
     "name": "stdout",
     "output_type": "stream",
     "text": [
      "6.24 ms ± 51.4 µs per loop (mean ± std. dev. of 7 runs, 100 loops each)\n"
     ]
    }
   ],
   "source": [
    "%timeit vanillaBond(0.0001,drift,sigma,n,year,cFrq,c,principle)"
   ]
  },
  {
   "cell_type": "code",
   "execution_count": 72,
   "metadata": {},
   "outputs": [
    {
     "name": "stdout",
     "output_type": "stream",
     "text": [
      "6.16 ms ± 37 µs per loop (mean ± std. dev. of 7 runs, 100 loops each)\n"
     ]
    }
   ],
   "source": [
    "%timeit vanillaBond(0.0001,drift,sigma,n,year,cFrq,c,principle)"
   ]
  },
  {
   "cell_type": "code",
   "execution_count": 26,
   "metadata": {},
   "outputs": [
    {
     "name": "stdout",
     "output_type": "stream",
     "text": [
      "1.99 ms ± 15.9 µs per loop (mean ± std. dev. of 7 runs, 100 loops each)\n"
     ]
    }
   ],
   "source": [
    "%timeit generateBT(0.0001,drift,sigma,n,year)"
   ]
  },
  {
   "cell_type": "code",
   "execution_count": 24,
   "metadata": {},
   "outputs": [
    {
     "name": "stdout",
     "output_type": "stream",
     "text": [
      "291 µs ± 614 ns per loop (mean ± std. dev. of 7 runs, 1000 loops each)\n"
     ]
    }
   ],
   "source": [
    "p = vanillaBond(0.0001,drift,sigma,n,year,cFrq,c,principle)\n",
    "%timeit ytm(p,c,principle,cFrq,year)"
   ]
  },
  {
   "cell_type": "code",
   "execution_count": 25,
   "metadata": {},
   "outputs": [
    {
     "name": "stdout",
     "output_type": "stream",
     "text": [
      "107 ms ± 2.15 ms per loop (mean ± std. dev. of 7 runs, 10 loops each)\n"
     ]
    }
   ],
   "source": [
    "%timeit callableBond(r,drift,sigma,n,year,cFrq,c,principle,callPirce,callTime)"
   ]
  },
  {
   "cell_type": "code",
   "execution_count": 94,
   "metadata": {},
   "outputs": [
    {
     "name": "stdout",
     "output_type": "stream",
     "text": [
      "2.32 ms ± 34.7 µs per loop (mean ± std. dev. of 7 runs, 100 loops each)\n"
     ]
    }
   ],
   "source": [
    "%timeit callableBond(0.0001,drift,sigma,n,year,cFrq,c,principle,callPirce,callTime)"
   ]
  },
  {
   "cell_type": "code",
   "execution_count": 168,
   "metadata": {},
   "outputs": [
    {
     "data": {
      "image/png": "[encoded data removed]",
      "text/plain": [
       "<matplotlib.figure.Figure at 0x1ee028a0160>"
      ]
     },
     "metadata": {},
     "output_type": "display_data"
    }
   ],
   "source": [
    "y=[]\n",
    "price=[]\n",
    "priceC=[]\n",
    "for r in np.arange(0, 0.2, 0.0001):\n",
    "    p=vanillaBond(r,drift,sigma,n,year,cFrq,c,principle)\n",
    "    y.append(ytm(p,c,principle,cFrq,year))\n",
    "    price.append(p)\n",
    "    priceC.append(callableBond(r,drift,sigma,n,year,cFrq,c,principle,callPirce,callTime))\n",
    "plt.figure(figsize=(6,4))    \n",
    "plt.plot(y,price,label='Vanilla Bond') \n",
    "plt.plot(y,priceC,label='Callable Bond')\n",
    "plt.title('Callable vs Vanilla Bond')\n",
    "plt.xlabel('YTM')\n",
    "plt.ylabel('Price')\n",
    "plt.legend()\n",
    "plt.show()"
   ]
  },
  {
   "cell_type": "code",
   "execution_count": 169,
   "metadata": {},
   "outputs": [],
   "source": [
    "price = np.array(price)\n",
    "priceC = np.array(priceC)\n",
    "y = np.array(y)"
   ]
  },
  {
   "cell_type": "code",
   "execution_count": 170,
   "metadata": {},
   "outputs": [
    {
     "data": {
      "image/png": "[encoded data removed]",
      "text/plain": [
       "<matplotlib.figure.Figure at 0x1ee0042ee80>"
      ]
     },
     "metadata": {},
     "output_type": "display_data"
    }
   ],
   "source": [
    "option_value = price - priceC\n",
    "plt.figure(figsize=(6,4))    \n",
    "plt.plot(y,option_value,label='Bond option')\n",
    "plt.xlabel('YTM')\n",
    "plt.ylabel('Option value')\n",
    "plt.legend()\n",
    "plt.show()"
   ]
  },
  {
   "cell_type": "markdown",
   "metadata": {},
   "source": [
    "# local smooth function - useless"
   ]
  },
  {
   "cell_type": "code",
   "execution_count": 130,
   "metadata": {
    "collapsed": true
   },
   "outputs": [],
   "source": [
    "import numpy as np\n",
    "    \n",
    "def localSmooth(x, y, w = 20, n = 4):\n",
    "    '''Fit a polynomial with order = n locally to each of the sets of consecutive points of window size = w'''\n",
    "    length = len(x)\n",
    "    \n",
    "    polys = []\n",
    "    for i in np.arange(length - w):\n",
    "        polys.append(nppp.polyfit(x[i:i + w], y[i:i + w], n))\n",
    "        \n",
    "    return np.array(polys)\n",
    "\n",
    "def calcDerivative(smoothedPolys, x, w = 20, n = 4):\n",
    "    '''Calculate the first derivative of locally smoothed functions from localSmooth.\n",
    "    for all points in x, if x is at the middle of a local polynomial, calculate its derivative with that polynomial\n",
    "    else find a polynomial in which it is nearest to the middle \n",
    "    '''\n",
    "    \n",
    "    lp = len(smoothedPolys)\n",
    "    \n",
    "    res = []\n",
    "    for i in x:\n",
    "        # find polynomial\n",
    "        if i < w // 2:\n",
    "            poly = smoothedPolys[0]\n",
    "        elif i - w // 2 > lp - 1:\n",
    "            poly = smoothedPolys[lp - 1]\n",
    "        else:\n",
    "            poly = smoothedPolys[i - w // 2]\n",
    "            \n",
    "        # calculate derivative\n",
    "        res.append(np.polyval(poly[:-1] * np.arange(n,0,-1), i))\n",
    "        \n",
    "    return np.array(res)"
   ]
  },
  {
   "cell_type": "code",
   "execution_count": 113,
   "metadata": {},
   "outputs": [
    {
     "data": {
      "text/plain": [
       "67.625796796669846"
      ]
     },
     "execution_count": 113,
     "metadata": {},
     "output_type": "execute_result"
    }
   ],
   "source": [
    "window = 5\n",
    "polys = localSmooth(y, priceC, window)\n",
    "\n",
    "ex = polys[499 - 5 // 2]\n",
    "np.sum(ex * 0.05**np.arange(4, -1, -1))"
   ]
  },
  {
   "cell_type": "code",
   "execution_count": 133,
   "metadata": {},
   "outputs": [
    {
     "data": {
      "image/png": "[encoded data removed]",
      "text/plain": [
       "<matplotlib.figure.Figure at 0x1ee0303d898>"
      ]
     },
     "metadata": {},
     "output_type": "display_data"
    }
   ],
   "source": [
    "window = 20\n",
    "order = 4\n",
    "\n",
    "polys = localSmooth(y, priceC, window, order)\n",
    "derivatives = calcDerivative(polys, y, window, order)\n",
    "duration = - derivatives / priceC\n",
    "\n",
    "disc1 = 1\n",
    "plt.figure(figsize=(6,4))    \n",
    "plt.plot(y, duration,label='Delta')\n",
    "plt.xlabel('YTM')\n",
    "plt.ylabel('Delta')\n",
    "plt.legend()\n",
    "plt.show()"
   ]
  },
  {
   "cell_type": "markdown",
   "metadata": {
    "collapsed": true
   },
   "source": [
    "# naive moving average"
   ]
  },
  {
   "cell_type": "code",
   "execution_count": 151,
   "metadata": {
    "collapsed": true
   },
   "outputs": [],
   "source": [
    "def smooth_ave(d, period = 3):\n",
    "    length = len(d)\n",
    "    res = np.zeros(length - (period - 1))\n",
    "    for i in np.arange(period - 1):\n",
    "        res += d[i:i - period + 1]\n",
    "        \n",
    "    res += d[period - 1:length]\n",
    "    return res / period"
   ]
  },
  {
   "cell_type": "code",
   "execution_count": 181,
   "metadata": {},
   "outputs": [
    {
     "data": {
      "image/png": "[encoded data removed]",
      "text/plain": [
       "<matplotlib.figure.Figure at 0x1ee02c2d9b0>"
      ]
     },
     "metadata": {},
     "output_type": "display_data"
    }
   ],
   "source": [
    "period = 100\n",
    "priceC_sm = smooth_ave(priceC, period)\n",
    "disc1 = 1\n",
    "new_y = y[period - 1:]\n",
    "delta = -((priceC_sm[disc1:] - priceC_sm[:-disc1]) / (priceC_sm[:-disc1])) / (new_y[disc1:] - new_y[:-disc1])\n",
    "new_yy = new_y[disc1:]\n",
    "plt.figure(figsize=(6,4))    \n",
    "plt.plot(new_yy,delta,label='Duration')\n",
    "plt.xlabel('YTM')\n",
    "plt.ylabel('Duration')\n",
    "plt.legend()\n",
    "plt.show()"
   ]
  },
  {
   "cell_type": "code",
   "execution_count": 182,
   "metadata": {},
   "outputs": [
    {
     "name": "stdout",
     "output_type": "stream",
     "text": [
      "1691\n"
     ]
    },
    {
     "data": {
      "image/png": "[encoded data removed]",
      "text/plain": [
       "<matplotlib.figure.Figure at 0x1ee0306ecc0>"
      ]
     },
     "metadata": {},
     "output_type": "display_data"
    }
   ],
   "source": [
    "disc2 = 10\n",
    "period2 = 200\n",
    "delta_sm = smooth_ave(delta, period2)\n",
    "gamma = (delta_sm[disc2:] - delta_sm[:-disc2]) / (new_yy[disc2 + period2 - 1:] - new_yy[:-disc2-period2+1])\n",
    "\n",
    "print(len(gamma))\n",
    "\n",
    "plt.figure(figsize=(6,4))    \n",
    "plt.plot(new_yy[disc2 + period2 - 1:],gamma,label='Convexity')\n",
    "plt.xlabel('YTM')\n",
    "plt.ylabel('Convexity')\n",
    "plt.legend()\n",
    "plt.show()"
   ]
  },
  {
   "cell_type": "markdown",
   "metadata": {},
   "source": [
    "# fit entire curve - disaster"
   ]
  },
  {
   "cell_type": "code",
   "execution_count": 150,
   "metadata": {},
   "outputs": [
    {
     "data": {
      "image/png": "[encoded data removed]",
      "text/plain": [
       "<matplotlib.figure.Figure at 0x1ee044bcd68>"
      ]
     },
     "metadata": {},
     "output_type": "display_data"
    }
   ],
   "source": [
    "order = 6\n",
    "poly = nppp.polyfit(y, priceC, order)\n",
    "fitted_val = np.polyval(poly, y)\n",
    "\n",
    "plt.figure(figsize=(6,4))    \n",
    "plt.plot(y, fitted_val, label='fitted polynomial')\n",
    "plt.plot(y, priceC, label='true curve')\n",
    "plt.xlabel('YTM')\n",
    "plt.ylabel('Value')\n",
    "plt.legend()\n",
    "plt.show()"
   ]
  }
 ],
 "metadata": {
  "kernelspec": {
   "display_name": "Python 3",
   "language": "python",
   "name": "python3"
  },
  "language_info": {
   "codemirror_mode": {
    "name": "ipython",
    "version": 3
   },
   "file_extension": ".py",
   "mimetype": "text/x-python",
   "name": "python",
   "nbconvert_exporter": "python",
   "pygments_lexer": "ipython3",
   "version": "3.5.3"
  }
 },
 "nbformat": 4,
 "nbformat_minor": 2
}
