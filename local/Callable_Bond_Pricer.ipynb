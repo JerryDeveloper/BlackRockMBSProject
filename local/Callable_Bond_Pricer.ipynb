{
 "cells": [
  {
   "cell_type": "code",
   "execution_count": 12,
   "metadata": {},
   "outputs": [],
   "source": [
    "import numpy as np\n",
    "\"Vacisek Model ZCB\"\n",
    "def exact_zcb(theta, kappa, sigma, tau, r0=0.):\n",
    "    B = (1 - np.exp(-kappa*tau)) / kappa\n",
    "    A = np.exp((theta-(sigma**2)/(2*(kappa**2))) *\n",
    "              (B-tau) - (sigma**2)/(4*kappa)*(B**2))\n",
    "    return A * np.exp(-r0*B)"
   ]
  },
  {
   "cell_type": "code",
   "execution_count": null,
   "metadata": {
    "collapsed": true
   },
   "outputs": [],
   "source": []
  }
 ],
 "metadata": {
  "kernelspec": {
   "display_name": "Python 2",
   "language": "python",
   "name": "python2"
  },
  "language_info": {
   "codemirror_mode": {
    "name": "ipython",
    "version": 2
   },
   "file_extension": ".py",
   "mimetype": "text/x-python",
   "name": "python",
   "nbconvert_exporter": "python",
   "pygments_lexer": "ipython2",
   "version": "2.7.13"
  }
 },
 "nbformat": 4,
 "nbformat_minor": 2
}
